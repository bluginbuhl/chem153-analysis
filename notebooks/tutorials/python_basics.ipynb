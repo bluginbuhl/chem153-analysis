{
 "cells": [
  {
   "cell_type": "markdown",
   "id": "2328b227-4f35-4fa2-b163-3500090711f3",
   "metadata": {},
   "source": [
    "# Basic Python Usage\n",
    "\n",
    "This notebook includes some basic examples for working with Python, including [built-in](https://docs.python.org/3/) tools, [numpy](https://numpy.org/doc/stable/), [pandas](https://pandas.pydata.org/docs/), [scipy](https://docs.scipy.org/doc/scipy/reference/), and [matplotlib](https://matplotlib.org/)."
   ]
  },
  {
   "cell_type": "markdown",
   "id": "4457e974-6883-4719-8f86-4bb25ce15b13",
   "metadata": {},
   "source": [
    "## Python Basics\n",
    "\n",
    "Python is an easy to learn, powerful programming language. It has efficient high-level data structures and a simple but effective approach to [object-oriented programming](https://en.wikipedia.org/wiki/Object-oriented_programming). Python’s elegant syntax and dynamic typing, together with its interpreted nature, make it an ideal language for scripting and rapid application development in many areas on most platforms. \n",
    "\n",
    "*source: [Python Docs](https://docs.python.org/3/tutorial/index.html)*\n",
    "\n",
    "### Free Resources for Learning Python\n",
    "\n",
    "- [Real Python](https://realpython.com/)\n",
    "- [Codecademy](https://www.codecademy.com/learn/learn-python)\n",
    "- [LearnPython](https://www.learnpython.org/)"
   ]
  },
  {
   "cell_type": "code",
   "execution_count": null,
   "id": "1e8f591a-a114-46fa-8ab5-d1b870576880",
   "metadata": {},
   "outputs": [],
   "source": []
  }
 ],
 "metadata": {
  "kernelspec": {
   "display_name": "Python 3",
   "language": "python",
   "name": "python3"
  },
  "language_info": {
   "codemirror_mode": {
    "name": "ipython",
    "version": 3
   },
   "file_extension": ".py",
   "mimetype": "text/x-python",
   "name": "python",
   "nbconvert_exporter": "python",
   "pygments_lexer": "ipython3",
   "version": "3.9.2"
  }
 },
 "nbformat": 4,
 "nbformat_minor": 5
}
