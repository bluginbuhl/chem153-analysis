{
 "cells": [
  {
   "cell_type": "markdown",
   "id": "637b89e1-322e-423f-b476-132a6688e1f7",
   "metadata": {},
   "source": [
    "# PyMassSpec\n",
    "\n",
    "<img src=\"https://pymassspec.readthedocs.io/en/master/_static/PyMassSpec_262.png\" />\n",
    "\n",
    "[Documentation](https://pymassspec.readthedocs.io/en/master/index.html)"
   ]
  },
  {
   "cell_type": "code",
   "execution_count": 1,
   "id": "657c3c65-86ae-43ed-90a4-efdb9d37fedc",
   "metadata": {},
   "outputs": [],
   "source": [
    "from pathlib import Path\n",
    "\n",
    "import matplotlib.pyplot as plt\n",
    "\n",
    "from pyms.GCMS.IO.ANDI import ANDI_reader\n",
    "from pyms.Display import plot_ic\n",
    "\n",
    "%matplotlib widget"
   ]
  },
  {
   "cell_type": "code",
   "execution_count": 2,
   "id": "1863a547-f50a-46d3-b5cf-796a3b262095",
   "metadata": {},
   "outputs": [],
   "source": [
    "TEST_FILE = Path('../../gcms_data/raw_data/C153AC1A.CDF')"
   ]
  },
  {
   "cell_type": "code",
   "execution_count": 3,
   "id": "29e5c801-9afa-4f1c-8cfd-22d43cd70c5a",
   "metadata": {},
   "outputs": [
    {
     "name": "stdout",
     "output_type": "stream",
     "text": [
      " -> Reading netCDF file '../../gcms_data/raw_data/C153AC1A.CDF'\n"
     ]
    }
   ],
   "source": [
    "data1 = ANDI_reader(TEST_FILE)\n",
    "tic = data1.tic"
   ]
  },
  {
   "cell_type": "code",
   "execution_count": 4,
   "id": "1b714d93-52ba-41cf-b8a6-8726ecc8d676",
   "metadata": {},
   "outputs": [
    {
     "data": {
      "application/vnd.jupyter.widget-view+json": {
       "model_id": "3b5aeb815f9048e0b02357eade2ebb82",
       "version_major": 2,
       "version_minor": 0
      },
      "text/plain": [
       "Canvas(toolbar=Toolbar(toolitems=[('Home', 'Reset original view', 'home', 'home'), ('Back', 'Back to previous …"
      ]
     },
     "metadata": {},
     "output_type": "display_data"
    }
   ],
   "source": [
    "fig, ax = plt.subplots(1, 1, figsize=(8,5))\n",
    "\n",
    "plot_ic(ax, tic, label=\"TIC\")\n",
    "plt.show()"
   ]
  },
  {
   "cell_type": "code",
   "execution_count": null,
   "id": "ff2e583e-6a50-4577-a13c-4f0e16e0d49d",
   "metadata": {},
   "outputs": [],
   "source": []
  }
 ],
 "metadata": {
  "kernelspec": {
   "display_name": "Python 3",
   "language": "python",
   "name": "python3"
  },
  "language_info": {
   "codemirror_mode": {
    "name": "ipython",
    "version": 3
   },
   "file_extension": ".py",
   "mimetype": "text/x-python",
   "name": "python",
   "nbconvert_exporter": "python",
   "pygments_lexer": "ipython3",
   "version": "3.9.2"
  }
 },
 "nbformat": 4,
 "nbformat_minor": 5
}
