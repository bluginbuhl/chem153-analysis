{
 "cells": [
  {
   "cell_type": "code",
   "execution_count": 1,
   "id": "3fd1d1ad-3fea-4bfd-be37-8253a87d7b98",
   "metadata": {},
   "outputs": [],
   "source": [
    "# this cell provides some custom styling for the markdown cells in this notebook\n",
    "from IPython.core.display import HTML\n",
    "def css_styling():\n",
    "    styles = open(\"../styles/custom.css\", \"r\").read()\n",
    "    return HTML(styles)\n",
    "\n",
    "css_styling();"
   ]
  },
  {
   "cell_type": "markdown",
   "id": "4a1d5924-e62a-48b4-a67a-ccfddc91e355",
   "metadata": {},
   "source": [
    "# GC-MS Data Processing and Analysis\n",
    "\n",
    "This notebook performs the processing and analysis of the data contained in the `/gcms_data` folder."
   ]
  },
  {
   "cell_type": "markdown",
   "id": "d7475ff9-1de1-401e-849b-b8f448b90205",
   "metadata": {},
   "source": [
    "## Summary of Procedure\n",
    "\n",
    "We are given the prompt that we need to analyze three gasoline samples and determine the concentration of benzene, toluene, and methyl *t*-butyl ether (MTBE) in each. In order to accomplish this, we will use Gas Chromatography coupled with Mass Spectrometry (GC-MS). Calibration curves for each of the analytes will be made using standard solutions with known concentrations. An internal standard of deuterated toluene (d8-toluene) with a fixed concentration will be used for all solutions, including the gasoline samples.\n",
    "\n",
    "### Internal Standard Stock Solution\n",
    "\n",
    "100 $\\mu L$ of d8-toluene is diluted to a total volume of 6.00 $mL$ with 1-chlorohexadecane.\n",
    "\n",
    "### Analyte Standard Stock Solutions\n",
    "\n",
    "Three standard stock solutions are prepared according to the following table:\n",
    "\n",
    "<table style=\"margin-left: 20px\">\n",
    "    <thead>\n",
    "        <tr style=\"border-top: 1px solid;\"><th></th><th class=\"center\" colspan=\"3\">volume [$\\mu L$]</th></tr>\n",
    "        <tr style=\"border-bottom: 1px solid;\">\n",
    "            <th class=\"center\">compound</th>\n",
    "            <th class=\"center\">standard 1</th>\n",
    "            <th class=\"center\">standard 2</th>\n",
    "            <th class=\"center\">standard 3</th>\n",
    "        </tr>\n",
    "    </thead>\n",
    "    <tbody>\n",
    "        <tr>\n",
    "            <td class=\"center\">MTBE</td>\n",
    "            <td class=\"right\">50</td>\n",
    "            <td class=\"right\">20</td>\n",
    "            <td class=\"right\">10</td>\n",
    "        </tr>\n",
    "        <tr>\n",
    "            <td class=\"center\">toluene</td>\n",
    "            <td class=\"right\">200</td>\n",
    "            <td class=\"right\">100</td>\n",
    "            <td class=\"right\">50</td>\n",
    "        </tr>\n",
    "        <tr>\n",
    "            <td class=\"center\">benzene</td>\n",
    "            <td class=\"right\">50</td>\n",
    "            <td class=\"right\">20</td>\n",
    "            <td class=\"right\">10</td>\n",
    "        </tr>\n",
    "        <tr>\n",
    "            <td class=\"center\">1-chlorohexadecane</td>\n",
    "            <td class=\"right\">2200</td>\n",
    "            <td class=\"right\">2360</td>\n",
    "            <td class=\"right\">2430</td>\n",
    "        </tr>\n",
    "    </tbody>\n",
    "</table>\n",
    "\n",
    "### Sample Preparation for GC-MS\n",
    "\n",
    "The final samples are prepared by combining 20 $\\mu L$ of a given standard stock solution with 1.00 $mL$ of 1-chlorohexadecane and 50 $\\mu L$ of the d8-toluene stock solution, for a total sample volume of 1070 $\\mu L$. Each standard is prepared in triplicate, and each solution will be run three times.\n",
    "\n",
    "The gasoline samples are prepared in the same manner, by combining 20 $\\mu L$ of the raw gasoline sample with 1.00 $mL$ of 1-chlorohexadecane and 50 $\\mu L$ of the d8-toluene stock solution. Only one sample is prepared for each gasoline sample, and each sample is run three times.\n",
    "\n",
    "1 $\\mu L$ of each sample is injected into the GC-MS for each run.\n",
    "\n",
    "### Data\n",
    "\n",
    "**Raw Data**\n",
    "\n",
    "Examples of the raw data collected from the GC-MS runs are contained in the `/gcms_data/raw_data` folder. `C153AC1A.D`, `C153AC2A.D`, and `C153AC3A.D` are examples for Standard 1, Standard 2, and Standard 3, respectively. `C153AG1.D`, `C153AG2.D`, and `C153AG3.D` correspond to three different gasoline samples.\n",
    "\n",
    "**Report Summaries**\n",
    "\n",
    "The `/gcms_data/integration_reports` folder contains Integration Reports for the standard and gasoline solutions in CSV format."
   ]
  },
  {
   "cell_type": "markdown",
   "id": "9e87a766-55c5-4e3e-9c86-cfa4bbfadcdd",
   "metadata": {},
   "source": [
    "---\n",
    "\n",
    "## Data Processing and Analysis\n",
    "\n",
    "### Creating Calibration Curves from the Standard Data\n",
    "\n",
    "In order to quantify the concentrations of the analytes in the gasoline samples, we need to use the data from the standard solutions to create calibration curves relating molarity to peak area. Since we are provided the Integration Report data, we can start from there.\n",
    "\n",
    "#### Reading In The Integration Report\n",
    "\n",
    "The first thing we need to do is tell Python where the data files are stored on our computer. To do this, we will make use of the built-in `pathlib` library. This library allows us to create a `Path` object that Python can use to find files and read their contents later.\n",
    "\n",
    "For more information on working with paths and files in Python, check out [this excellent course](https://realpython.com/read-write-files-python/) from [Real Python](https://realpython.com/)"
   ]
  },
  {
   "cell_type": "code",
   "execution_count": 2,
   "id": "63303c22-bcb3-4bdf-91f3-6f83f873ab96",
   "metadata": {},
   "outputs": [],
   "source": [
    "from pathlib import Path"
   ]
  },
  {
   "cell_type": "code",
   "execution_count": 3,
   "id": "298d79de-85c1-4a1a-97fd-239b79cf1c90",
   "metadata": {},
   "outputs": [],
   "source": [
    "# Path to the integration report data\n",
    "# the ../../ tells the computer to go two folder up\n",
    "\n",
    "REPORTS_FOLDER = Path('../../gcms_data/integration_reports')\n",
    "\n",
    "STANDARDS_FILE = REPORTS_FOLDER / 'Integration_Report_Standards.csv'\n",
    "GASOLINE_FIL = REPORTS_FOLDER / 'Integration_Report_Gasoline.csv'"
   ]
  },
  {
   "cell_type": "markdown",
   "id": "4eeb8df4-ba61-4e77-aeb1-dd31e8fe2478",
   "metadata": {},
   "source": [
    "Next, we will use the common data analysis library <a href=\"https://pandas.pydata.org/\"><img src=\"https://pandas.pydata.org/static/img/pandas_white.svg\" alt=\"Pandas\" width=\"75\" /></a> to work with and manipulate the Integration Report data.\n",
    "\n",
    "Pandas uses `DataFrames` to store data. These function similarly to an Excel spreadsheet table in that the data are stored in columns and rows."
   ]
  },
  {
   "cell_type": "code",
   "execution_count": 4,
   "id": "a3805b1e-d78b-4aff-9ae7-150f87ccead1",
   "metadata": {},
   "outputs": [],
   "source": [
    "import pandas as pd"
   ]
  },
  {
   "cell_type": "code",
   "execution_count": 5,
   "id": "44b81856-bfff-408a-bf0f-069105c1b45b",
   "metadata": {},
   "outputs": [
    {
     "data": {
      "text/html": [
       "<div>\n",
       "<style scoped>\n",
       "    .dataframe tbody tr th:only-of-type {\n",
       "        vertical-align: middle;\n",
       "    }\n",
       "\n",
       "    .dataframe tbody tr th {\n",
       "        vertical-align: top;\n",
       "    }\n",
       "\n",
       "    .dataframe thead th {\n",
       "        text-align: right;\n",
       "    }\n",
       "</style>\n",
       "<table border=\"1\" class=\"dataframe\">\n",
       "  <thead>\n",
       "    <tr style=\"text-align: right;\">\n",
       "      <th></th>\n",
       "      <th>Standards</th>\n",
       "      <th>Extracted Ion Mass (-0.3 +0.7)</th>\n",
       "      <th>Retention Time</th>\n",
       "      <th>Area</th>\n",
       "    </tr>\n",
       "  </thead>\n",
       "  <tbody>\n",
       "    <tr>\n",
       "      <th>0</th>\n",
       "      <td>Standard1_Vial1_Run1</td>\n",
       "      <td>73.0</td>\n",
       "      <td>1.313</td>\n",
       "      <td>13223058.0</td>\n",
       "    </tr>\n",
       "    <tr>\n",
       "      <th>1</th>\n",
       "      <td>NaN</td>\n",
       "      <td>91.0</td>\n",
       "      <td>3.281</td>\n",
       "      <td>62865953.0</td>\n",
       "    </tr>\n",
       "    <tr>\n",
       "      <th>2</th>\n",
       "      <td>NaN</td>\n",
       "      <td>78.0</td>\n",
       "      <td>1.842</td>\n",
       "      <td>17074346.0</td>\n",
       "    </tr>\n",
       "    <tr>\n",
       "      <th>3</th>\n",
       "      <td>NaN</td>\n",
       "      <td>100.0</td>\n",
       "      <td>3.200</td>\n",
       "      <td>17146218.0</td>\n",
       "    </tr>\n",
       "    <tr>\n",
       "      <th>4</th>\n",
       "      <td>NaN</td>\n",
       "      <td>NaN</td>\n",
       "      <td>NaN</td>\n",
       "      <td>NaN</td>\n",
       "    </tr>\n",
       "  </tbody>\n",
       "</table>\n",
       "</div>"
      ],
      "text/plain": [
       "              Standards  Extracted Ion Mass (-0.3 +0.7)  Retention Time  \\\n",
       "0  Standard1_Vial1_Run1                            73.0           1.313   \n",
       "1                   NaN                            91.0           3.281   \n",
       "2                   NaN                            78.0           1.842   \n",
       "3                   NaN                           100.0           3.200   \n",
       "4                   NaN                             NaN             NaN   \n",
       "\n",
       "         Area  \n",
       "0  13223058.0  \n",
       "1  62865953.0  \n",
       "2  17074346.0  \n",
       "3  17146218.0  \n",
       "4         NaN  "
      ]
     },
     "execution_count": 5,
     "metadata": {},
     "output_type": "execute_result"
    }
   ],
   "source": [
    "# Create a DataFrame from the STANDARDS FILE\n",
    "standard_report = pd.read_csv(STANDARDS_FILE)\n",
    "\n",
    "# Display the 'head' (first 5 rows) of the DataFrame\n",
    "standard_report.head()"
   ]
  },
  {
   "cell_type": "markdown",
   "id": "2990b8da-41cb-4e3a-b8c9-88d07f0b4408",
   "metadata": {},
   "source": [
    "#### Cleaning the Data\n",
    "\n",
    "We can see that while pandas was able to easily read the data stored in the `Integration_Report_Standards.csv` file, the table that was produced is a bit messy. First of all, there are empty rows between each sample run that have been included in the dataframe. We can easily get rid of these by running the `dropna()` function."
   ]
  },
  {
   "cell_type": "code",
   "execution_count": 6,
   "id": "1ba5ac0f-76d4-4c2a-b60f-8f0891019af7",
   "metadata": {},
   "outputs": [],
   "source": [
    "# remove all rows that only contain `NaN` values (empty rows in the CSV)\n",
    "standard_report.dropna(axis=0, how=\"all\", inplace=True)"
   ]
  },
  {
   "cell_type": "markdown",
   "id": "edb95619-c5ee-41b1-965b-dff5686269de",
   "metadata": {},
   "source": [
    "Next, we can see that the `Standards` column only lists the sample name once for a given run. While it's easy for a human to interpret this format, we should explicitly label each row as belonging to a certain standard, vial, and run. Luckily, there's another easy function, `fillna()`, that allows us to fill in these values. We will specify the \"forward fill\" method, which tells the function to replace any `NaN` values with the value of the cell above it."
   ]
  },
  {
   "cell_type": "code",
   "execution_count": 7,
   "id": "ab69ab97-1ca0-4f9e-8982-16b447d2cffb",
   "metadata": {},
   "outputs": [],
   "source": [
    "# use the 'forward fill' (`ffill`) method to replace the NaN values for the sample names\n",
    "standard_report.fillna(method='ffill', inplace=True)"
   ]
  },
  {
   "cell_type": "markdown",
   "id": "b3533026-f4d7-4e88-bf0e-43dca7eed345",
   "metadata": {},
   "source": [
    "Great! We can now begin to work with the data - everything has a label, and there are no missing values from the table.\n",
    "\n",
    "While we could begin to write some functions to extract the values we need to begin constructing our calibration curves, it will be easier in the long run if we \"pivot\" the table so that the retention times and areas are the columns, with each sample run as an index. To accomplish this, we'll make a new dataframe that uses the values in `standard_report`."
   ]
  },
  {
   "cell_type": "code",
   "execution_count": 8,
   "id": "8f8125d1-b936-4812-ae37-c84bf60f7acb",
   "metadata": {},
   "outputs": [
    {
     "data": {
      "text/html": [
       "<div>\n",
       "<style scoped>\n",
       "    .dataframe tbody tr th:only-of-type {\n",
       "        vertical-align: middle;\n",
       "    }\n",
       "\n",
       "    .dataframe tbody tr th {\n",
       "        vertical-align: top;\n",
       "    }\n",
       "\n",
       "    .dataframe thead tr th {\n",
       "        text-align: left;\n",
       "    }\n",
       "\n",
       "    .dataframe thead tr:last-of-type th {\n",
       "        text-align: right;\n",
       "    }\n",
       "</style>\n",
       "<table border=\"1\" class=\"dataframe\">\n",
       "  <thead>\n",
       "    <tr>\n",
       "      <th></th>\n",
       "      <th colspan=\"4\" halign=\"left\">Retention Time</th>\n",
       "      <th colspan=\"4\" halign=\"left\">Area</th>\n",
       "    </tr>\n",
       "    <tr>\n",
       "      <th>Extracted Ion Mass (-0.3 +0.7)</th>\n",
       "      <th>73.0</th>\n",
       "      <th>78.0</th>\n",
       "      <th>91.0</th>\n",
       "      <th>100.0</th>\n",
       "      <th>73.0</th>\n",
       "      <th>78.0</th>\n",
       "      <th>91.0</th>\n",
       "      <th>100.0</th>\n",
       "    </tr>\n",
       "    <tr>\n",
       "      <th>Standards</th>\n",
       "      <th></th>\n",
       "      <th></th>\n",
       "      <th></th>\n",
       "      <th></th>\n",
       "      <th></th>\n",
       "      <th></th>\n",
       "      <th></th>\n",
       "      <th></th>\n",
       "    </tr>\n",
       "  </thead>\n",
       "  <tbody>\n",
       "    <tr>\n",
       "      <th>Standard1_Vial1_Run1</th>\n",
       "      <td>1.313</td>\n",
       "      <td>1.842</td>\n",
       "      <td>3.281</td>\n",
       "      <td>3.200</td>\n",
       "      <td>13223058.0</td>\n",
       "      <td>17074346.0</td>\n",
       "      <td>62865953.0</td>\n",
       "      <td>17146218.0</td>\n",
       "    </tr>\n",
       "    <tr>\n",
       "      <th>Standard1_Vial1_Run2</th>\n",
       "      <td>1.331</td>\n",
       "      <td>1.858</td>\n",
       "      <td>3.299</td>\n",
       "      <td>3.217</td>\n",
       "      <td>13936945.0</td>\n",
       "      <td>17363726.0</td>\n",
       "      <td>77036137.0</td>\n",
       "      <td>17822874.0</td>\n",
       "    </tr>\n",
       "    <tr>\n",
       "      <th>Standard1_Vial1_Run3</th>\n",
       "      <td>1.336</td>\n",
       "      <td>1.865</td>\n",
       "      <td>3.306</td>\n",
       "      <td>3.223</td>\n",
       "      <td>13233195.0</td>\n",
       "      <td>17442001.0</td>\n",
       "      <td>72660448.0</td>\n",
       "      <td>18128977.0</td>\n",
       "    </tr>\n",
       "    <tr>\n",
       "      <th>Standard1_Vial2_Run1</th>\n",
       "      <td>1.319</td>\n",
       "      <td>1.850</td>\n",
       "      <td>3.291</td>\n",
       "      <td>3.208</td>\n",
       "      <td>14306901.0</td>\n",
       "      <td>16930185.0</td>\n",
       "      <td>67847488.0</td>\n",
       "      <td>17569413.0</td>\n",
       "    </tr>\n",
       "    <tr>\n",
       "      <th>Standard1_Vial2_Run2</th>\n",
       "      <td>1.303</td>\n",
       "      <td>1.831</td>\n",
       "      <td>3.274</td>\n",
       "      <td>3.191</td>\n",
       "      <td>13597888.0</td>\n",
       "      <td>16764926.0</td>\n",
       "      <td>66299143.0</td>\n",
       "      <td>17927930.0</td>\n",
       "    </tr>\n",
       "  </tbody>\n",
       "</table>\n",
       "</div>"
      ],
      "text/plain": [
       "                               Retention Time                       \\\n",
       "Extracted Ion Mass (-0.3 +0.7)          73.0   78.0   91.0   100.0   \n",
       "Standards                                                            \n",
       "Standard1_Vial1_Run1                    1.313  1.842  3.281  3.200   \n",
       "Standard1_Vial1_Run2                    1.331  1.858  3.299  3.217   \n",
       "Standard1_Vial1_Run3                    1.336  1.865  3.306  3.223   \n",
       "Standard1_Vial2_Run1                    1.319  1.850  3.291  3.208   \n",
       "Standard1_Vial2_Run2                    1.303  1.831  3.274  3.191   \n",
       "\n",
       "                                      Area                                      \n",
       "Extracted Ion Mass (-0.3 +0.7)       73.0        78.0        91.0        100.0  \n",
       "Standards                                                                       \n",
       "Standard1_Vial1_Run1            13223058.0  17074346.0  62865953.0  17146218.0  \n",
       "Standard1_Vial1_Run2            13936945.0  17363726.0  77036137.0  17822874.0  \n",
       "Standard1_Vial1_Run3            13233195.0  17442001.0  72660448.0  18128977.0  \n",
       "Standard1_Vial2_Run1            14306901.0  16930185.0  67847488.0  17569413.0  \n",
       "Standard1_Vial2_Run2            13597888.0  16764926.0  66299143.0  17927930.0  "
      ]
     },
     "execution_count": 8,
     "metadata": {},
     "output_type": "execute_result"
    }
   ],
   "source": [
    "# create a new dataframe by pivoting on the extracted ion mass column\n",
    "standard_summary = standard_report.pivot(index=\"Standards\", columns=\"Extracted Ion Mass (-0.3 +0.7)\", values=[\"Retention Time\", \"Area\"])\n",
    "standard_summary.head()"
   ]
  },
  {
   "cell_type": "markdown",
   "id": "a59e5558-5119-46b1-86cc-2ed270119640",
   "metadata": {},
   "source": [
    "This first step of pivoting the data has moved us in the right direction - the data are now arranged in columns with each ion mass as the header, and the retention times and areas for each ion as the data. However, the format of the columns is now a `MultiIndex` (read more [here](https://pandas.pydata.org/pandas-docs/stable/user_guide/advanced.html)). You can verify this for yourself by calling `standard_summary.columns` if you like.\n",
    "\n",
    "In order to make the data easier to access, we need to \"flatten\" the column labels. We can do this, while simultaneously renaming the columns using the fairy complicated one-liner below:"
   ]
  },
  {
   "cell_type": "code",
   "execution_count": 9,
   "id": "122f047e-51e8-4cec-8f06-e9a61408d246",
   "metadata": {},
   "outputs": [],
   "source": [
    "# This line of code uses a lot of Python tricks, including f-strings, list comprehension, string methods, and tuple unpacking.\n",
    "standard_summary.columns = [f\"{int(B)}_{A}\".replace(\" \", \"_\").replace(\"Retention_Time\", \"RT\") for A, B in standard_summary.columns.values]"
   ]
  },
  {
   "cell_type": "markdown",
   "id": "d55bb049-e717-4469-8c5c-7544a6dad49d",
   "metadata": {},
   "source": [
    "As a final step before moving on to actually analyzing the data and constructing our normalized calibration curves, we will change the datatype of the Area columns from `float64` to `int64`. Read more about the differences between these datatypes in Pandas [here](https://pbpython.com/pandas_dtypes.html)."
   ]
  },
  {
   "cell_type": "code",
   "execution_count": 10,
   "id": "69e9622f-ba92-453c-baae-2a58e0c4d1a8",
   "metadata": {},
   "outputs": [],
   "source": [
    "for name in standard_summary.columns:\n",
    "    # only change the datatype for the Area columns\n",
    "    if \"Area\" in name:\n",
    "        standard_summary[name] = standard_summary[name].astype(int)"
   ]
  },
  {
   "cell_type": "markdown",
   "id": "f49f3cb6-c9b5-4938-a374-d42cfe20c4b6",
   "metadata": {},
   "source": [
    "#### Normalizing The Data\n",
    "\n",
    "In order to create statistically accurate calibration curves from the standard data, we need to account for variations in the retention times and peak areas. There are many different ways to accomplish this, but for this experiment, we will use the data from the internal standard, d8-toluene, to \"normalize\" the data for the analytes."
   ]
  },
  {
   "cell_type": "code",
   "execution_count": null,
   "id": "05b96db2-5f36-433d-a7dc-1f2cd73dfbe6",
   "metadata": {},
   "outputs": [],
   "source": []
  }
 ],
 "metadata": {
  "kernelspec": {
   "display_name": "Python 3",
   "language": "python",
   "name": "python3"
  },
  "language_info": {
   "codemirror_mode": {
    "name": "ipython",
    "version": 3
   },
   "file_extension": ".py",
   "mimetype": "text/x-python",
   "name": "python",
   "nbconvert_exporter": "python",
   "pygments_lexer": "ipython3",
   "version": "3.9.2"
  }
 },
 "nbformat": 4,
 "nbformat_minor": 5
}
